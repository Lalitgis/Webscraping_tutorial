{
 "cells": [
  {
   "cell_type": "markdown",
   "id": "e9fa23ff",
   "metadata": {},
   "source": [
    "<h2> Web Scrapping of Population data </h2>"
   ]
  },
  {
   "cell_type": "code",
   "execution_count": 1,
   "id": "4b32ec86",
   "metadata": {},
   "outputs": [],
   "source": [
    "import pandas as pd\n",
    "import numpy as np\n",
    "import matplotlib.pyplot as plt"
   ]
  },
  {
   "cell_type": "code",
   "execution_count": 2,
   "id": "a38d8d81",
   "metadata": {},
   "outputs": [
    {
     "name": "stdout",
     "output_type": "stream",
     "text": [
      "[                   Name              Status         Transcription  \\\n",
      "0                Achham            District                Achāma   \n",
      "1    Bannigadhi Jaygadh  Rural Municipality  Bānnigaḍhī Jayagaḍha   \n",
      "2             Chaurpati  Rural Municipality             Caurapāṭī   \n",
      "3               Dhakari  Rural Municipality               Ḍhakārī   \n",
      "4            Kamalbazar        Municipality          Kamalabajāra   \n",
      "..                  ...                 ...                   ...   \n",
      "846         Chaurjahari        Municipality           Caurajahārī   \n",
      "847             Musikot        Municipality              Musikōṭa   \n",
      "848          Sani Bheri  Rural Municipality            Sānī Bhērī   \n",
      "849             Triveni  Rural Municipality               Trivēṇī   \n",
      "850               Nepal    Federal Republic                Nēpāla   \n",
      "\n",
      "                        Native PopulationCensus2001-05-28  \\\n",
      "0                  अछाम जिल्ला                     231285   \n",
      "1    बान्निगढी जयगढ गाउँपालिका                      17102   \n",
      "2           चौरपाटी गाउँपालिका                      23323   \n",
      "3             ढकारी गाउँपालिका                        ...   \n",
      "4            कमलबजार नगरपालिका                        ...   \n",
      "..                         ...                        ...   \n",
      "846         चौरजहारी नगरपालिका                        ...   \n",
      "847          मुसिकोट नगरपालिका                        ...   \n",
      "848       सानी भेरी गाउँपालिका                        ...   \n",
      "849        त्रिवेणी गाउँपालिका                        ...   \n",
      "850                      नेपाल                   23151423   \n",
      "\n",
      "     PopulationCensus2011-06-22  PopulationCensus2021-11-25 Unnamed: 7  \n",
      "0                        257477                      228852          →  \n",
      "1                         17426                       13519          →  \n",
      "2                         25215                       21681          →  \n",
      "3                         21570                       21998          →  \n",
      "4                         23770                       21032          →  \n",
      "..                          ...                         ...        ...  \n",
      "846                       27583                       28956          →  \n",
      "847                       33882                       34270          →  \n",
      "848                       22194                       24759          →  \n",
      "849                       19404                       20525          →  \n",
      "850                    26494504                    29164578        NaN  \n",
      "\n",
      "[851 rows x 8 columns],   Gender (C 2021)  Gender (C 2021).1\n",
      "0           Males           14253551\n",
      "1         Females           14911027,   Age Groups (C 2021)  Age Groups (C 2021).1\n",
      "0          0-14 years                8115575\n",
      "1         15-64 years               19027289\n",
      "2           65+ years                2021714,   Age Distribution (C 2021)  Age Distribution (C 2021).1\n",
      "0                 0-9 years                      5205710\n",
      "1               10-19 years                      5876269\n",
      "2               20-29 years                      5242409\n",
      "3               30-39 years                      4189204\n",
      "4               40-49 years                      3183872\n",
      "5               50-59 years                      2489796\n",
      "6               60-69 years                      1727222\n",
      "7               70-79 years                       962573\n",
      "8               80-89 years                       239883\n",
      "9                 90+ years                        47640,   Citizenhip (C 2021)  Citizenhip (C 2021).1\n",
      "0               Nepal               29027171\n",
      "1               India                 132781\n",
      "2       Other country                   4437,              Place of Birth (C 2021)  Place of Birth (C 2021).1\n",
      "0                    Same local unit                   20117395\n",
      "1  Other local unit in same district                    2612713\n",
      "2                     Other district                    5690225\n",
      "3                      Other country                     734663,   Literacy (A5+) (C 2021)  Literacy (A5+) (C 2021).1\n",
      "0                     Yes                   20377980\n",
      "1            Only reading                     114331\n",
      "2                      No                    6223061]\n"
     ]
    }
   ],
   "source": [
    "url = \"https://www.citypopulation.de/en/nepal/mun/admin/?fbclid=IwAR1cELwT8UdD3WjgIpG6xH_gLk9qSTsyiB_JqYsl-KewRXMPiWDTX49iFFQ\"\n",
    "tables = pd.read_html(url)\n",
    "print(tables)"
   ]
  },
  {
   "cell_type": "code",
   "execution_count": 3,
   "id": "5438cb5d",
   "metadata": {},
   "outputs": [
    {
     "data": {
      "text/html": [
       "<div>\n",
       "<style scoped>\n",
       "    .dataframe tbody tr th:only-of-type {\n",
       "        vertical-align: middle;\n",
       "    }\n",
       "\n",
       "    .dataframe tbody tr th {\n",
       "        vertical-align: top;\n",
       "    }\n",
       "\n",
       "    .dataframe thead th {\n",
       "        text-align: right;\n",
       "    }\n",
       "</style>\n",
       "<table border=\"1\" class=\"dataframe\">\n",
       "  <thead>\n",
       "    <tr style=\"text-align: right;\">\n",
       "      <th></th>\n",
       "      <th>Name</th>\n",
       "      <th>Status</th>\n",
       "      <th>Transcription</th>\n",
       "      <th>Native</th>\n",
       "      <th>PopulationCensus2001-05-28</th>\n",
       "      <th>PopulationCensus2011-06-22</th>\n",
       "      <th>PopulationCensus2021-11-25</th>\n",
       "      <th>Unnamed: 7</th>\n",
       "    </tr>\n",
       "  </thead>\n",
       "  <tbody>\n",
       "    <tr>\n",
       "      <th>0</th>\n",
       "      <td>Achham</td>\n",
       "      <td>District</td>\n",
       "      <td>Achāma</td>\n",
       "      <td>अछाम जिल्ला</td>\n",
       "      <td>231285</td>\n",
       "      <td>257477</td>\n",
       "      <td>228852</td>\n",
       "      <td>→</td>\n",
       "    </tr>\n",
       "    <tr>\n",
       "      <th>1</th>\n",
       "      <td>Bannigadhi Jaygadh</td>\n",
       "      <td>Rural Municipality</td>\n",
       "      <td>Bānnigaḍhī Jayagaḍha</td>\n",
       "      <td>बान्निगढी जयगढ गाउँपालिका</td>\n",
       "      <td>17102</td>\n",
       "      <td>17426</td>\n",
       "      <td>13519</td>\n",
       "      <td>→</td>\n",
       "    </tr>\n",
       "    <tr>\n",
       "      <th>2</th>\n",
       "      <td>Chaurpati</td>\n",
       "      <td>Rural Municipality</td>\n",
       "      <td>Caurapāṭī</td>\n",
       "      <td>चौरपाटी गाउँपालिका</td>\n",
       "      <td>23323</td>\n",
       "      <td>25215</td>\n",
       "      <td>21681</td>\n",
       "      <td>→</td>\n",
       "    </tr>\n",
       "    <tr>\n",
       "      <th>3</th>\n",
       "      <td>Dhakari</td>\n",
       "      <td>Rural Municipality</td>\n",
       "      <td>Ḍhakārī</td>\n",
       "      <td>ढकारी गाउँपालिका</td>\n",
       "      <td>...</td>\n",
       "      <td>21570</td>\n",
       "      <td>21998</td>\n",
       "      <td>→</td>\n",
       "    </tr>\n",
       "    <tr>\n",
       "      <th>4</th>\n",
       "      <td>Kamalbazar</td>\n",
       "      <td>Municipality</td>\n",
       "      <td>Kamalabajāra</td>\n",
       "      <td>कमलबजार नगरपालिका</td>\n",
       "      <td>...</td>\n",
       "      <td>23770</td>\n",
       "      <td>21032</td>\n",
       "      <td>→</td>\n",
       "    </tr>\n",
       "  </tbody>\n",
       "</table>\n",
       "</div>"
      ],
      "text/plain": [
       "                 Name              Status         Transcription  \\\n",
       "0              Achham            District                Achāma   \n",
       "1  Bannigadhi Jaygadh  Rural Municipality  Bānnigaḍhī Jayagaḍha   \n",
       "2           Chaurpati  Rural Municipality             Caurapāṭī   \n",
       "3             Dhakari  Rural Municipality               Ḍhakārī   \n",
       "4          Kamalbazar        Municipality          Kamalabajāra   \n",
       "\n",
       "                      Native PopulationCensus2001-05-28  \\\n",
       "0                अछाम जिल्ला                     231285   \n",
       "1  बान्निगढी जयगढ गाउँपालिका                      17102   \n",
       "2         चौरपाटी गाउँपालिका                      23323   \n",
       "3           ढकारी गाउँपालिका                        ...   \n",
       "4          कमलबजार नगरपालिका                        ...   \n",
       "\n",
       "   PopulationCensus2011-06-22  PopulationCensus2021-11-25 Unnamed: 7  \n",
       "0                      257477                      228852          →  \n",
       "1                       17426                       13519          →  \n",
       "2                       25215                       21681          →  \n",
       "3                       21570                       21998          →  \n",
       "4                       23770                       21032          →  "
      ]
     },
     "execution_count": 3,
     "metadata": {},
     "output_type": "execute_result"
    }
   ],
   "source": [
    "tables[0].head()"
   ]
  },
  {
   "cell_type": "code",
   "execution_count": 4,
   "id": "45068e23",
   "metadata": {},
   "outputs": [],
   "source": [
    "# Assigining new variables for population\n",
    "\n",
    "population = tables[0]"
   ]
  },
  {
   "cell_type": "code",
   "execution_count": 5,
   "id": "04ed512e",
   "metadata": {},
   "outputs": [
    {
     "data": {
      "text/plain": [
       "Name                          object\n",
       "Status                        object\n",
       "Transcription                 object\n",
       "Native                        object\n",
       "PopulationCensus2001-05-28    object\n",
       "PopulationCensus2011-06-22     int64\n",
       "PopulationCensus2021-11-25     int64\n",
       "Unnamed: 7                    object\n",
       "dtype: object"
      ]
     },
     "execution_count": 5,
     "metadata": {},
     "output_type": "execute_result"
    }
   ],
   "source": [
    "population.dtypes"
   ]
  },
  {
   "cell_type": "code",
   "execution_count": 6,
   "id": "3be8ea5a",
   "metadata": {},
   "outputs": [
    {
     "name": "stdout",
     "output_type": "stream",
     "text": [
      "                   Name PopulationCensus2001-05-28  \\\n",
      "0                Achham                     231285   \n",
      "1    Bannigadhi Jaygadh                      17102   \n",
      "2             Chaurpati                      23323   \n",
      "3               Dhakari                        ...   \n",
      "4            Kamalbazar                        ...   \n",
      "..                  ...                        ...   \n",
      "846         Chaurjahari                        ...   \n",
      "847             Musikot                        ...   \n",
      "848          Sani Bheri                        ...   \n",
      "849             Triveni                        ...   \n",
      "850               Nepal                   23151423   \n",
      "\n",
      "     PopulationCensus2011-06-22  PopulationCensus2021-11-25 Unnamed: 7  \n",
      "0                        257477                      228852          →  \n",
      "1                         17426                       13519          →  \n",
      "2                         25215                       21681          →  \n",
      "3                         21570                       21998          →  \n",
      "4                         23770                       21032          →  \n",
      "..                          ...                         ...        ...  \n",
      "846                       27583                       28956          →  \n",
      "847                       33882                       34270          →  \n",
      "848                       22194                       24759          →  \n",
      "849                       19404                       20525          →  \n",
      "850                    26494504                    29164578        NaN  \n",
      "\n",
      "[851 rows x 5 columns]\n"
     ]
    }
   ],
   "source": [
    "population = population.drop(['Status', 'Transcription', 'Native'],axis =1)\n",
    "print(population)"
   ]
  },
  {
   "cell_type": "code",
   "execution_count": 7,
   "id": "0c0b2dee",
   "metadata": {},
   "outputs": [
    {
     "data": {
      "text/plain": [
       "Index(['Name', 'PopulationCensus2001-05-28', 'PopulationCensus2011-06-22',\n",
       "       'PopulationCensus2021-11-25', 'Unnamed: 7'],\n",
       "      dtype='object')"
      ]
     },
     "execution_count": 7,
     "metadata": {},
     "output_type": "execute_result"
    }
   ],
   "source": [
    "population.columns"
   ]
  },
  {
   "cell_type": "code",
   "execution_count": 10,
   "id": "b71dc34f",
   "metadata": {},
   "outputs": [
    {
     "data": {
      "text/html": [
       "<div>\n",
       "<style scoped>\n",
       "    .dataframe tbody tr th:only-of-type {\n",
       "        vertical-align: middle;\n",
       "    }\n",
       "\n",
       "    .dataframe tbody tr th {\n",
       "        vertical-align: top;\n",
       "    }\n",
       "\n",
       "    .dataframe thead th {\n",
       "        text-align: right;\n",
       "    }\n",
       "</style>\n",
       "<table border=\"1\" class=\"dataframe\">\n",
       "  <thead>\n",
       "    <tr style=\"text-align: right;\">\n",
       "      <th></th>\n",
       "      <th>Name</th>\n",
       "      <th>PopulationCensus2001-05-28</th>\n",
       "      <th>PopulationCensus2011-06-22</th>\n",
       "      <th>PopulationCensus2021-11-25</th>\n",
       "      <th>Unnamed: 7</th>\n",
       "    </tr>\n",
       "  </thead>\n",
       "  <tbody>\n",
       "    <tr>\n",
       "      <th>0</th>\n",
       "      <td>Achham</td>\n",
       "      <td>231285</td>\n",
       "      <td>257477</td>\n",
       "      <td>228852</td>\n",
       "      <td>→</td>\n",
       "    </tr>\n",
       "    <tr>\n",
       "      <th>1</th>\n",
       "      <td>Bannigadhi Jaygadh</td>\n",
       "      <td>17102</td>\n",
       "      <td>17426</td>\n",
       "      <td>13519</td>\n",
       "      <td>→</td>\n",
       "    </tr>\n",
       "    <tr>\n",
       "      <th>2</th>\n",
       "      <td>Chaurpati</td>\n",
       "      <td>23323</td>\n",
       "      <td>25215</td>\n",
       "      <td>21681</td>\n",
       "      <td>→</td>\n",
       "    </tr>\n",
       "    <tr>\n",
       "      <th>3</th>\n",
       "      <td>Dhakari</td>\n",
       "      <td>...</td>\n",
       "      <td>21570</td>\n",
       "      <td>21998</td>\n",
       "      <td>→</td>\n",
       "    </tr>\n",
       "    <tr>\n",
       "      <th>4</th>\n",
       "      <td>Kamalbazar</td>\n",
       "      <td>...</td>\n",
       "      <td>23770</td>\n",
       "      <td>21032</td>\n",
       "      <td>→</td>\n",
       "    </tr>\n",
       "  </tbody>\n",
       "</table>\n",
       "</div>"
      ],
      "text/plain": [
       "                 Name PopulationCensus2001-05-28  PopulationCensus2011-06-22  \\\n",
       "0              Achham                     231285                      257477   \n",
       "1  Bannigadhi Jaygadh                      17102                       17426   \n",
       "2           Chaurpati                      23323                       25215   \n",
       "3             Dhakari                        ...                       21570   \n",
       "4          Kamalbazar                        ...                       23770   \n",
       "\n",
       "   PopulationCensus2021-11-25 Unnamed: 7  \n",
       "0                      228852          →  \n",
       "1                       13519          →  \n",
       "2                       21681          →  \n",
       "3                       21998          →  \n",
       "4                       21032          →  "
      ]
     },
     "execution_count": 10,
     "metadata": {},
     "output_type": "execute_result"
    }
   ],
   "source": [
    "population.head()"
   ]
  },
  {
   "cell_type": "code",
   "execution_count": 11,
   "id": "ad96545c",
   "metadata": {},
   "outputs": [
    {
     "data": {
      "text/plain": [
       "Name                          object\n",
       "PopulationCensus2001-05-28    object\n",
       "PopulationCensus2011-06-22     int64\n",
       "PopulationCensus2021-11-25     int64\n",
       "Unnamed: 7                    object\n",
       "dtype: object"
      ]
     },
     "execution_count": 11,
     "metadata": {},
     "output_type": "execute_result"
    }
   ],
   "source": [
    "population.dtypes"
   ]
  },
  {
   "cell_type": "code",
   "execution_count": 13,
   "id": "735ec3c5",
   "metadata": {},
   "outputs": [],
   "source": [
    "# to change object data types into int\n",
    "\n",
    "population['PopulationCensus2001-05-28'] = pd.to_numeric(population['PopulationCensus2001-05-28'],errors='coerce')"
   ]
  },
  {
   "cell_type": "code",
   "execution_count": 14,
   "id": "6666af24",
   "metadata": {},
   "outputs": [
    {
     "data": {
      "text/plain": [
       "Name                           object\n",
       "PopulationCensus2001-05-28    float64\n",
       "PopulationCensus2011-06-22      int64\n",
       "PopulationCensus2021-11-25      int64\n",
       "Unnamed: 7                     object\n",
       "dtype: object"
      ]
     },
     "execution_count": 14,
     "metadata": {},
     "output_type": "execute_result"
    }
   ],
   "source": [
    "population.dtypes"
   ]
  },
  {
   "cell_type": "code",
   "execution_count": 18,
   "id": "e393eba9",
   "metadata": {},
   "outputs": [
    {
     "data": {
      "text/plain": [
       "<AxesSubplot:xlabel='PopulationCensus2021-11-25'>"
      ]
     },
     "execution_count": 18,
     "metadata": {},
     "output_type": "execute_result"
    },
    {
     "data": {
      "image/png": "[encoded data removed]",
      "text/plain": [
       "<Figure size 640x480 with 1 Axes>"
      ]
     },
     "metadata": {},
     "output_type": "display_data"
    }
   ],
   "source": [
    "population.plot('PopulationCensus2021-11-25')"
   ]
  },
  {
   "cell_type": "code",
   "execution_count": 21,
   "id": "9bcb5e3a",
   "metadata": {},
   "outputs": [],
   "source": [
    "# to save this data in our directory\n",
    "# first assign scraped data into a variable here its df\n",
    "\n",
    "df= pd.DataFrame(population)\n",
    "\n",
    "# then save the df into csv with name = scraped\n",
    "\n",
    "df.to_csv('Scraped.csv', index= False)"
   ]
  }
 ],
 "metadata": {
  "kernelspec": {
   "display_name": "Python 3 (ipykernel)",
   "language": "python",
   "name": "python3"
  },
  "language_info": {
   "codemirror_mode": {
    "name": "ipython",
    "version": 3
   },
   "file_extension": ".py",
   "mimetype": "text/x-python",
   "name": "python",
   "nbconvert_exporter": "python",
   "pygments_lexer": "ipython3",
   "version": "3.9.13"
  }
 },
 "nbformat": 4,
 "nbformat_minor": 5
}
